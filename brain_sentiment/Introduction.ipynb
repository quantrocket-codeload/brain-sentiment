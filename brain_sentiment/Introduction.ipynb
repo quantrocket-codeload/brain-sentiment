{
 "cells": [
  {
   "cell_type": "markdown",
   "metadata": {},
   "source": [
    "<a href=\"https://www.quantrocket.com\"><img alt=\"QuantRocket logo\" src=\"https://www.quantrocket.com/assets/img/notebook-header-logo.png\"></a><br>\n",
    "<a href=\"https://www.quantrocket.com/disclaimer/\">Disclaimer</a>"
   ]
  },
  {
   "cell_type": "markdown",
   "metadata": {},
   "source": [
    "# Brain Sentiment Data\n",
    "\n",
    "This tutorial provides an overview of 3 sentiment datasets from data provider Brain: Brain Sentiment Indicator (news sentiment), Brain Language Metrics on Company Filings, and Brain Language Metrics on Earnings Call Transcripts.\n",
    "    \n",
    "* Part 1: [Data Collection](Part1-Data-Collection.ipynb)\n",
    "\n",
    "**Alphalens Analysis**\n",
    "\n",
    "* Part 2: [Brain Sentiment Indicator](Part2-Alphalens-BSI.ipynb)\n",
    "* Part 3: [Brain Language Metrics on Company Filings](Part3-Alphalens-BLMCF.ipynb)\n",
    "* Part 4: [Brain Language Metrics on Earnings Call Transcripts](Part4-Alphalens-BLMECT.ipynb) "
   ]
  }
 ],
 "metadata": {
  "kernelspec": {
   "display_name": "Python 3.11",
   "language": "python",
   "name": "python3"
  },
  "language_info": {
   "codemirror_mode": {
    "name": "ipython",
    "version": 3
   },
   "file_extension": ".py",
   "mimetype": "text/x-python",
   "name": "python",
   "nbconvert_exporter": "python",
   "pygments_lexer": "ipython3",
   "version": "3.11.0"
  }
 },
 "nbformat": 4,
 "nbformat_minor": 4
}
